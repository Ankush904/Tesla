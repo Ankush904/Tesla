{
 "cells": [
  {
   "cell_type": "code",
   "execution_count": null,
   "id": "0bd5aeb8",
   "metadata": {},
   "outputs": [],
   "source": []
  },
  {
   "cell_type": "code",
   "execution_count": 1,
   "id": "2cb8250f",
   "metadata": {},
   "outputs": [],
   "source": [
    "import numpy as np\n",
    "import pandas as pd\n",
    "import seaborn as sns\n",
    "import matplotlib.pyplot as plt\n",
    "%matplotlib inline"
   ]
  },
  {
   "cell_type": "code",
   "execution_count": 2,
   "id": "54ca1057",
   "metadata": {},
   "outputs": [],
   "source": [
    "df = pd.read_csv(\"C:/Users/ankus/1NewProjects/Finance/Tesla_Stock/TSLA.csv\")"
   ]
  },
  {
   "cell_type": "code",
   "execution_count": 3,
   "id": "b5e9d41b",
   "metadata": {},
   "outputs": [
    {
     "data": {
      "text/plain": [
       "Index(['Date', 'Open', 'High', 'Low', 'Close', 'Adj Close', 'Volume'], dtype='object')"
      ]
     },
     "execution_count": 3,
     "metadata": {},
     "output_type": "execute_result"
    }
   ],
   "source": [
    "df.columns"
   ]
  },
  {
   "cell_type": "code",
   "execution_count": 4,
   "id": "ae77f619",
   "metadata": {},
   "outputs": [],
   "source": [
    "df = pd.read_csv(\"C:/Users/ankus/1NewProjects/Finance/Tesla_Stock/TSLA.csv\",header = 0, index_col = \"Date\",parse_dates = True)"
   ]
  },
  {
   "cell_type": "code",
   "execution_count": 5,
   "id": "dbffbbb0",
   "metadata": {},
   "outputs": [
    {
     "data": {
      "text/html": [
       "<div>\n",
       "<style scoped>\n",
       "    .dataframe tbody tr th:only-of-type {\n",
       "        vertical-align: middle;\n",
       "    }\n",
       "\n",
       "    .dataframe tbody tr th {\n",
       "        vertical-align: top;\n",
       "    }\n",
       "\n",
       "    .dataframe thead th {\n",
       "        text-align: right;\n",
       "    }\n",
       "</style>\n",
       "<table border=\"1\" class=\"dataframe\">\n",
       "  <thead>\n",
       "    <tr style=\"text-align: right;\">\n",
       "      <th></th>\n",
       "      <th>Open</th>\n",
       "      <th>High</th>\n",
       "      <th>Low</th>\n",
       "      <th>Close</th>\n",
       "      <th>Adj Close</th>\n",
       "      <th>Volume</th>\n",
       "    </tr>\n",
       "    <tr>\n",
       "      <th>Date</th>\n",
       "      <th></th>\n",
       "      <th></th>\n",
       "      <th></th>\n",
       "      <th></th>\n",
       "      <th></th>\n",
       "      <th></th>\n",
       "    </tr>\n",
       "  </thead>\n",
       "  <tbody>\n",
       "    <tr>\n",
       "      <th>2010-06-29</th>\n",
       "      <td>19.000000</td>\n",
       "      <td>25.000000</td>\n",
       "      <td>17.540001</td>\n",
       "      <td>23.889999</td>\n",
       "      <td>23.889999</td>\n",
       "      <td>18766300</td>\n",
       "    </tr>\n",
       "    <tr>\n",
       "      <th>2010-06-30</th>\n",
       "      <td>25.790001</td>\n",
       "      <td>30.420000</td>\n",
       "      <td>23.299999</td>\n",
       "      <td>23.830000</td>\n",
       "      <td>23.830000</td>\n",
       "      <td>17187100</td>\n",
       "    </tr>\n",
       "    <tr>\n",
       "      <th>2010-07-01</th>\n",
       "      <td>25.000000</td>\n",
       "      <td>25.920000</td>\n",
       "      <td>20.270000</td>\n",
       "      <td>21.959999</td>\n",
       "      <td>21.959999</td>\n",
       "      <td>8218800</td>\n",
       "    </tr>\n",
       "    <tr>\n",
       "      <th>2010-07-02</th>\n",
       "      <td>23.000000</td>\n",
       "      <td>23.100000</td>\n",
       "      <td>18.709999</td>\n",
       "      <td>19.200001</td>\n",
       "      <td>19.200001</td>\n",
       "      <td>5139800</td>\n",
       "    </tr>\n",
       "    <tr>\n",
       "      <th>2010-07-06</th>\n",
       "      <td>20.000000</td>\n",
       "      <td>20.000000</td>\n",
       "      <td>15.830000</td>\n",
       "      <td>16.110001</td>\n",
       "      <td>16.110001</td>\n",
       "      <td>6866900</td>\n",
       "    </tr>\n",
       "    <tr>\n",
       "      <th>2010-07-07</th>\n",
       "      <td>16.400000</td>\n",
       "      <td>16.629999</td>\n",
       "      <td>14.980000</td>\n",
       "      <td>15.800000</td>\n",
       "      <td>15.800000</td>\n",
       "      <td>6921700</td>\n",
       "    </tr>\n",
       "    <tr>\n",
       "      <th>2010-07-08</th>\n",
       "      <td>16.139999</td>\n",
       "      <td>17.520000</td>\n",
       "      <td>15.570000</td>\n",
       "      <td>17.459999</td>\n",
       "      <td>17.459999</td>\n",
       "      <td>7711400</td>\n",
       "    </tr>\n",
       "    <tr>\n",
       "      <th>2010-07-09</th>\n",
       "      <td>17.580000</td>\n",
       "      <td>17.900000</td>\n",
       "      <td>16.549999</td>\n",
       "      <td>17.400000</td>\n",
       "      <td>17.400000</td>\n",
       "      <td>4050600</td>\n",
       "    </tr>\n",
       "    <tr>\n",
       "      <th>2010-07-12</th>\n",
       "      <td>17.950001</td>\n",
       "      <td>18.070000</td>\n",
       "      <td>17.000000</td>\n",
       "      <td>17.049999</td>\n",
       "      <td>17.049999</td>\n",
       "      <td>2202500</td>\n",
       "    </tr>\n",
       "    <tr>\n",
       "      <th>2010-07-13</th>\n",
       "      <td>17.389999</td>\n",
       "      <td>18.639999</td>\n",
       "      <td>16.900000</td>\n",
       "      <td>18.139999</td>\n",
       "      <td>18.139999</td>\n",
       "      <td>2680100</td>\n",
       "    </tr>\n",
       "  </tbody>\n",
       "</table>\n",
       "</div>"
      ],
      "text/plain": [
       "                 Open       High        Low      Close  Adj Close    Volume\n",
       "Date                                                                       \n",
       "2010-06-29  19.000000  25.000000  17.540001  23.889999  23.889999  18766300\n",
       "2010-06-30  25.790001  30.420000  23.299999  23.830000  23.830000  17187100\n",
       "2010-07-01  25.000000  25.920000  20.270000  21.959999  21.959999   8218800\n",
       "2010-07-02  23.000000  23.100000  18.709999  19.200001  19.200001   5139800\n",
       "2010-07-06  20.000000  20.000000  15.830000  16.110001  16.110001   6866900\n",
       "2010-07-07  16.400000  16.629999  14.980000  15.800000  15.800000   6921700\n",
       "2010-07-08  16.139999  17.520000  15.570000  17.459999  17.459999   7711400\n",
       "2010-07-09  17.580000  17.900000  16.549999  17.400000  17.400000   4050600\n",
       "2010-07-12  17.950001  18.070000  17.000000  17.049999  17.049999   2202500\n",
       "2010-07-13  17.389999  18.639999  16.900000  18.139999  18.139999   2680100"
      ]
     },
     "execution_count": 5,
     "metadata": {},
     "output_type": "execute_result"
    }
   ],
   "source": [
    "df. head(10)"
   ]
  },
  {
   "cell_type": "code",
   "execution_count": 6,
   "id": "a422a8f0",
   "metadata": {},
   "outputs": [
    {
     "name": "stdout",
     "output_type": "stream",
     "text": [
      "<class 'pandas.core.frame.DataFrame'>\n",
      "DatetimeIndex: 2416 entries, 2010-06-29 to 2020-02-03\n",
      "Data columns (total 6 columns):\n",
      " #   Column     Non-Null Count  Dtype  \n",
      "---  ------     --------------  -----  \n",
      " 0   Open       2416 non-null   float64\n",
      " 1   High       2416 non-null   float64\n",
      " 2   Low        2416 non-null   float64\n",
      " 3   Close      2416 non-null   float64\n",
      " 4   Adj Close  2416 non-null   float64\n",
      " 5   Volume     2416 non-null   int64  \n",
      "dtypes: float64(5), int64(1)\n",
      "memory usage: 132.1 KB\n"
     ]
    }
   ],
   "source": [
    "df.info()"
   ]
  },
  {
   "cell_type": "code",
   "execution_count": 7,
   "id": "9f2caa53",
   "metadata": {
    "scrolled": true
   },
   "outputs": [
    {
     "data": {
      "text/html": [
       "<div>\n",
       "<style scoped>\n",
       "    .dataframe tbody tr th:only-of-type {\n",
       "        vertical-align: middle;\n",
       "    }\n",
       "\n",
       "    .dataframe tbody tr th {\n",
       "        vertical-align: top;\n",
       "    }\n",
       "\n",
       "    .dataframe thead th {\n",
       "        text-align: right;\n",
       "    }\n",
       "</style>\n",
       "<table border=\"1\" class=\"dataframe\">\n",
       "  <thead>\n",
       "    <tr style=\"text-align: right;\">\n",
       "      <th></th>\n",
       "      <th>Open</th>\n",
       "      <th>High</th>\n",
       "      <th>Low</th>\n",
       "      <th>Close</th>\n",
       "      <th>Adj Close</th>\n",
       "      <th>Volume</th>\n",
       "    </tr>\n",
       "    <tr>\n",
       "      <th>Date</th>\n",
       "      <th></th>\n",
       "      <th></th>\n",
       "      <th></th>\n",
       "      <th></th>\n",
       "      <th></th>\n",
       "      <th></th>\n",
       "    </tr>\n",
       "  </thead>\n",
       "  <tbody>\n",
       "    <tr>\n",
       "      <th>2020-01-30</th>\n",
       "      <td>632.419983</td>\n",
       "      <td>650.880005</td>\n",
       "      <td>618.00000</td>\n",
       "      <td>640.809998</td>\n",
       "      <td>640.809998</td>\n",
       "      <td>29005700</td>\n",
       "    </tr>\n",
       "    <tr>\n",
       "      <th>2020-01-31</th>\n",
       "      <td>640.000000</td>\n",
       "      <td>653.000000</td>\n",
       "      <td>632.52002</td>\n",
       "      <td>650.570007</td>\n",
       "      <td>650.570007</td>\n",
       "      <td>15719300</td>\n",
       "    </tr>\n",
       "    <tr>\n",
       "      <th>2020-02-03</th>\n",
       "      <td>673.690002</td>\n",
       "      <td>786.140015</td>\n",
       "      <td>673.52002</td>\n",
       "      <td>780.000000</td>\n",
       "      <td>780.000000</td>\n",
       "      <td>47065000</td>\n",
       "    </tr>\n",
       "  </tbody>\n",
       "</table>\n",
       "</div>"
      ],
      "text/plain": [
       "                  Open        High        Low       Close   Adj Close  \\\n",
       "Date                                                                    \n",
       "2020-01-30  632.419983  650.880005  618.00000  640.809998  640.809998   \n",
       "2020-01-31  640.000000  653.000000  632.52002  650.570007  650.570007   \n",
       "2020-02-03  673.690002  786.140015  673.52002  780.000000  780.000000   \n",
       "\n",
       "              Volume  \n",
       "Date                  \n",
       "2020-01-30  29005700  \n",
       "2020-01-31  15719300  \n",
       "2020-02-03  47065000  "
      ]
     },
     "execution_count": 7,
     "metadata": {},
     "output_type": "execute_result"
    }
   ],
   "source": [
    "df.tail(3)"
   ]
  },
  {
   "cell_type": "code",
   "execution_count": 8,
   "id": "97736cfd",
   "metadata": {},
   "outputs": [
    {
     "name": "stdout",
     "output_type": "stream",
     "text": [
      "<class 'pandas.core.frame.DataFrame'>\n",
      "DatetimeIndex: 2416 entries, 2010-06-29 to 2020-02-03\n",
      "Data columns (total 6 columns):\n",
      " #   Column     Non-Null Count  Dtype  \n",
      "---  ------     --------------  -----  \n",
      " 0   Open       2416 non-null   float64\n",
      " 1   High       2416 non-null   float64\n",
      " 2   Low        2416 non-null   float64\n",
      " 3   Close      2416 non-null   float64\n",
      " 4   Adj Close  2416 non-null   float64\n",
      " 5   Volume     2416 non-null   int64  \n",
      "dtypes: float64(5), int64(1)\n",
      "memory usage: 132.1 KB\n"
     ]
    }
   ],
   "source": [
    "df.info()"
   ]
  },
  {
   "cell_type": "code",
   "execution_count": 9,
   "id": "7402f5f5",
   "metadata": {},
   "outputs": [
    {
     "data": {
      "text/plain": [
       "673.690002"
      ]
     },
     "execution_count": 9,
     "metadata": {},
     "output_type": "execute_result"
    }
   ],
   "source": [
    "df.Open.max()"
   ]
  },
  {
   "cell_type": "code",
   "execution_count": 10,
   "id": "030c1a47",
   "metadata": {},
   "outputs": [
    {
     "data": {
      "text/plain": [
       "16.139999"
      ]
     },
     "execution_count": 10,
     "metadata": {},
     "output_type": "execute_result"
    }
   ],
   "source": [
    "df.Open.min()"
   ]
  },
  {
   "cell_type": "code",
   "execution_count": 11,
   "id": "17cd7f08",
   "metadata": {},
   "outputs": [
    {
     "data": {
      "text/plain": [
       "780.0"
      ]
     },
     "execution_count": 11,
     "metadata": {},
     "output_type": "execute_result"
    }
   ],
   "source": [
    "df.Close.max()"
   ]
  },
  {
   "cell_type": "code",
   "execution_count": 12,
   "id": "c4b4c645",
   "metadata": {},
   "outputs": [
    {
     "data": {
      "text/plain": [
       "15.8"
      ]
     },
     "execution_count": 12,
     "metadata": {},
     "output_type": "execute_result"
    }
   ],
   "source": [
    "df.Close.min()"
   ]
  },
  {
   "cell_type": "code",
   "execution_count": 13,
   "id": "efbe0772",
   "metadata": {},
   "outputs": [],
   "source": [
    "# Time Series Data"
   ]
  },
  {
   "cell_type": "code",
   "execution_count": 14,
   "id": "d43372db",
   "metadata": {},
   "outputs": [],
   "source": [
    "import matplotlib.dates as mdates"
   ]
  },
  {
   "cell_type": "code",
   "execution_count": 15,
   "id": "63e060ee",
   "metadata": {},
   "outputs": [
    {
     "data": {
      "text/plain": [
       "[<matplotlib.lines.Line2D at 0x19ce3131430>]"
      ]
     },
     "execution_count": 15,
     "metadata": {},
     "output_type": "execute_result"
    },
    {
     "data": {
      "image/png": "[encoded data removed]",
      "text/plain": [
       "<Figure size 1080x504 with 1 Axes>"
      ]
     },
     "metadata": {
      "needs_background": "light"
     },
     "output_type": "display_data"
    }
   ],
   "source": [
    "plt.figure(figsize=(15,7))\n",
    "plt.plot(df.index,df['Adj Close'])"
   ]
  },
  {
   "cell_type": "markdown",
   "id": "f46e69fe",
   "metadata": {},
   "source": [
    "## Resampling"
   ]
  },
  {
   "cell_type": "markdown",
   "id": "14229ef4",
   "metadata": {},
   "source": [
    "### Resampling it on Year of 2019"
   ]
  },
  {
   "cell_type": "code",
   "execution_count": 16,
   "id": "75ef3e80",
   "metadata": {},
   "outputs": [],
   "source": [
    " df_19 = df.loc[pd.Timestamp(\"2019-01-01\"):pd.Timestamp(\"2019-12-31\")]"
   ]
  },
  {
   "cell_type": "code",
   "execution_count": 17,
   "id": "d31b1076",
   "metadata": {},
   "outputs": [
    {
     "data": {
      "image/png": "[encoded data removed]",
      "text/plain": [
       "<Figure size 1080x504 with 1 Axes>"
      ]
     },
     "metadata": {
      "needs_background": "light"
     },
     "output_type": "display_data"
    }
   ],
   "source": [
    "plt.figure(figsize=(15,7))\n",
    "plt.plot(df_19.index,df_19[\"Adj Close\"])\n",
    "plt.gca().xaxis.set_major_formatter(mdates.DateFormatter('%Y-%m'))\n",
    "plt.gca().xaxis.set_major_locator(mdates.MonthLocator())\n",
    "plt.grid(True)\n",
    "plt.show()"
   ]
  },
  {
   "cell_type": "markdown",
   "id": "6d89b8d6",
   "metadata": {},
   "source": [
    "### Resampling it monthly"
   ]
  },
  {
   "cell_type": "markdown",
   "id": "ddc3109f",
   "metadata": {},
   "source": [
    "We are taking the resampling monthly value by taking meen of every 2 months. "
   ]
  },
  {
   "cell_type": "code",
   "execution_count": 18,
   "id": "cb08caf4",
   "metadata": {},
   "outputs": [
    {
     "data": {
      "text/html": [
       "<div>\n",
       "<style scoped>\n",
       "    .dataframe tbody tr th:only-of-type {\n",
       "        vertical-align: middle;\n",
       "    }\n",
       "\n",
       "    .dataframe tbody tr th {\n",
       "        vertical-align: top;\n",
       "    }\n",
       "\n",
       "    .dataframe thead th {\n",
       "        text-align: right;\n",
       "    }\n",
       "</style>\n",
       "<table border=\"1\" class=\"dataframe\">\n",
       "  <thead>\n",
       "    <tr style=\"text-align: right;\">\n",
       "      <th></th>\n",
       "      <th>Open</th>\n",
       "      <th>High</th>\n",
       "      <th>Low</th>\n",
       "      <th>Close</th>\n",
       "      <th>Adj Close</th>\n",
       "      <th>Volume</th>\n",
       "    </tr>\n",
       "    <tr>\n",
       "      <th>Date</th>\n",
       "      <th></th>\n",
       "      <th></th>\n",
       "      <th></th>\n",
       "      <th></th>\n",
       "      <th></th>\n",
       "      <th></th>\n",
       "    </tr>\n",
       "  </thead>\n",
       "  <tbody>\n",
       "    <tr>\n",
       "      <th>2019-01-31</th>\n",
       "      <td>316.690953</td>\n",
       "      <td>323.513809</td>\n",
       "      <td>310.459522</td>\n",
       "      <td>318.494284</td>\n",
       "      <td>318.494284</td>\n",
       "      <td>8.364386e+06</td>\n",
       "    </tr>\n",
       "    <tr>\n",
       "      <th>2019-03-31</th>\n",
       "      <td>292.325751</td>\n",
       "      <td>296.514500</td>\n",
       "      <td>287.299500</td>\n",
       "      <td>291.993498</td>\n",
       "      <td>291.993498</td>\n",
       "      <td>8.558590e+06</td>\n",
       "    </tr>\n",
       "    <tr>\n",
       "      <th>2019-05-31</th>\n",
       "      <td>243.236512</td>\n",
       "      <td>247.015350</td>\n",
       "      <td>238.310001</td>\n",
       "      <td>242.639768</td>\n",
       "      <td>242.639768</td>\n",
       "      <td>1.193853e+07</td>\n",
       "    </tr>\n",
       "    <tr>\n",
       "      <th>2019-07-31</th>\n",
       "      <td>227.920714</td>\n",
       "      <td>232.175951</td>\n",
       "      <td>224.529286</td>\n",
       "      <td>228.731905</td>\n",
       "      <td>228.731905</td>\n",
       "      <td>9.864917e+06</td>\n",
       "    </tr>\n",
       "    <tr>\n",
       "      <th>2019-09-30</th>\n",
       "      <td>231.243097</td>\n",
       "      <td>234.813809</td>\n",
       "      <td>227.087381</td>\n",
       "      <td>230.892618</td>\n",
       "      <td>230.892618</td>\n",
       "      <td>6.417376e+06</td>\n",
       "    </tr>\n",
       "    <tr>\n",
       "      <th>2019-11-30</th>\n",
       "      <td>298.764652</td>\n",
       "      <td>303.759534</td>\n",
       "      <td>294.703256</td>\n",
       "      <td>299.817675</td>\n",
       "      <td>299.817675</td>\n",
       "      <td>8.971009e+06</td>\n",
       "    </tr>\n",
       "    <tr>\n",
       "      <th>2020-01-31</th>\n",
       "      <td>374.696189</td>\n",
       "      <td>381.737620</td>\n",
       "      <td>371.012380</td>\n",
       "      <td>377.694763</td>\n",
       "      <td>377.694763</td>\n",
       "      <td>9.860952e+06</td>\n",
       "    </tr>\n",
       "  </tbody>\n",
       "</table>\n",
       "</div>"
      ],
      "text/plain": [
       "                  Open        High         Low       Close   Adj Close  \\\n",
       "Date                                                                     \n",
       "2019-01-31  316.690953  323.513809  310.459522  318.494284  318.494284   \n",
       "2019-03-31  292.325751  296.514500  287.299500  291.993498  291.993498   \n",
       "2019-05-31  243.236512  247.015350  238.310001  242.639768  242.639768   \n",
       "2019-07-31  227.920714  232.175951  224.529286  228.731905  228.731905   \n",
       "2019-09-30  231.243097  234.813809  227.087381  230.892618  230.892618   \n",
       "2019-11-30  298.764652  303.759534  294.703256  299.817675  299.817675   \n",
       "2020-01-31  374.696189  381.737620  371.012380  377.694763  377.694763   \n",
       "\n",
       "                  Volume  \n",
       "Date                      \n",
       "2019-01-31  8.364386e+06  \n",
       "2019-03-31  8.558590e+06  \n",
       "2019-05-31  1.193853e+07  \n",
       "2019-07-31  9.864917e+06  \n",
       "2019-09-30  6.417376e+06  \n",
       "2019-11-30  8.971009e+06  \n",
       "2020-01-31  9.860952e+06  "
      ]
     },
     "execution_count": 18,
     "metadata": {},
     "output_type": "execute_result"
    }
   ],
   "source": [
    "df_Mon = df_19.resample(\"2M\").mean()\n",
    "df_Mon"
   ]
  },
  {
   "cell_type": "code",
   "execution_count": 19,
   "id": "c4f3c53f",
   "metadata": {},
   "outputs": [
    {
     "data": {
      "image/png": "[encoded data removed]",
      "text/plain": [
       "<Figure size 1080x504 with 1 Axes>"
      ]
     },
     "metadata": {
      "needs_background": "light"
     },
     "output_type": "display_data"
    }
   ],
   "source": [
    "plt.figure(figsize=(15,7))\n",
    "plt.scatter(df_Mon.index,df_Mon[\"Adj Close\"],color = 'g')\n",
    "plt.gca().xaxis.set_major_formatter(mdates.DateFormatter('%Y-%m'))\n",
    "plt.gca().xaxis.set_major_locator(mdates.MonthLocator())\n",
    "plt.grid()\n",
    "plt.show()"
   ]
  },
  {
   "cell_type": "markdown",
   "id": "b45d9ff4",
   "metadata": {},
   "source": [
    "### Resampling it on weekly"
   ]
  },
  {
   "cell_type": "code",
   "execution_count": 20,
   "id": "b1eb2d18",
   "metadata": {},
   "outputs": [
    {
     "data": {
      "text/html": [
       "<div>\n",
       "<style scoped>\n",
       "    .dataframe tbody tr th:only-of-type {\n",
       "        vertical-align: middle;\n",
       "    }\n",
       "\n",
       "    .dataframe tbody tr th {\n",
       "        vertical-align: top;\n",
       "    }\n",
       "\n",
       "    .dataframe thead th {\n",
       "        text-align: right;\n",
       "    }\n",
       "</style>\n",
       "<table border=\"1\" class=\"dataframe\">\n",
       "  <thead>\n",
       "    <tr style=\"text-align: right;\">\n",
       "      <th></th>\n",
       "      <th>Open</th>\n",
       "      <th>High</th>\n",
       "      <th>Low</th>\n",
       "      <th>Close</th>\n",
       "      <th>Adj Close</th>\n",
       "      <th>Volume</th>\n",
       "    </tr>\n",
       "    <tr>\n",
       "      <th>Date</th>\n",
       "      <th></th>\n",
       "      <th></th>\n",
       "      <th></th>\n",
       "      <th></th>\n",
       "      <th></th>\n",
       "      <th></th>\n",
       "    </tr>\n",
       "  </thead>\n",
       "  <tbody>\n",
       "    <tr>\n",
       "      <th>2019-01-06</th>\n",
       "      <td>306.366669</td>\n",
       "      <td>314.176666</td>\n",
       "      <td>299.636668</td>\n",
       "      <td>309.389994</td>\n",
       "      <td>309.389994</td>\n",
       "      <td>8.672633e+06</td>\n",
       "    </tr>\n",
       "    <tr>\n",
       "      <th>2019-01-13</th>\n",
       "      <td>335.133996</td>\n",
       "      <td>343.610004</td>\n",
       "      <td>329.359998</td>\n",
       "      <td>340.214001</td>\n",
       "      <td>340.214001</td>\n",
       "      <td>6.217620e+06</td>\n",
       "    </tr>\n",
       "    <tr>\n",
       "      <th>2019-01-20</th>\n",
       "      <td>338.273999</td>\n",
       "      <td>344.385999</td>\n",
       "      <td>331.176001</td>\n",
       "      <td>334.889997</td>\n",
       "      <td>334.889997</td>\n",
       "      <td>8.764620e+06</td>\n",
       "    </tr>\n",
       "    <tr>\n",
       "      <th>2019-01-27</th>\n",
       "      <td>293.685005</td>\n",
       "      <td>298.674996</td>\n",
       "      <td>286.504997</td>\n",
       "      <td>293.765007</td>\n",
       "      <td>293.765007</td>\n",
       "      <td>9.964625e+06</td>\n",
       "    </tr>\n",
       "    <tr>\n",
       "      <th>2019-02-03</th>\n",
       "      <td>299.010004</td>\n",
       "      <td>306.535999</td>\n",
       "      <td>295.107996</td>\n",
       "      <td>304.367993</td>\n",
       "      <td>304.367993</td>\n",
       "      <td>8.429580e+06</td>\n",
       "    </tr>\n",
       "  </tbody>\n",
       "</table>\n",
       "</div>"
      ],
      "text/plain": [
       "                  Open        High         Low       Close   Adj Close  \\\n",
       "Date                                                                     \n",
       "2019-01-06  306.366669  314.176666  299.636668  309.389994  309.389994   \n",
       "2019-01-13  335.133996  343.610004  329.359998  340.214001  340.214001   \n",
       "2019-01-20  338.273999  344.385999  331.176001  334.889997  334.889997   \n",
       "2019-01-27  293.685005  298.674996  286.504997  293.765007  293.765007   \n",
       "2019-02-03  299.010004  306.535999  295.107996  304.367993  304.367993   \n",
       "\n",
       "                  Volume  \n",
       "Date                      \n",
       "2019-01-06  8.672633e+06  \n",
       "2019-01-13  6.217620e+06  \n",
       "2019-01-20  8.764620e+06  \n",
       "2019-01-27  9.964625e+06  \n",
       "2019-02-03  8.429580e+06  "
      ]
     },
     "execution_count": 20,
     "metadata": {},
     "output_type": "execute_result"
    }
   ],
   "source": [
    "df_week = df_19.resample(\"W\").mean()\n",
    "df_week.head()"
   ]
  },
  {
   "cell_type": "code",
   "execution_count": 21,
   "id": "38404460",
   "metadata": {},
   "outputs": [
    {
     "data": {
      "image/png": "[encoded data removed]",
      "text/plain": [
       "<Figure size 1080x504 with 1 Axes>"
      ]
     },
     "metadata": {
      "needs_background": "light"
     },
     "output_type": "display_data"
    }
   ],
   "source": [
    "plt.figure(figsize=(15,7))\n",
    "plt.plot(df_week.index,df_week[\"Adj Close\"],'-o',color =\"mediumseagreen\")\n",
    "plt.gca().xaxis.set_major_formatter(mdates.DateFormatter('%Y-%m-%d'))\n",
    "plt.gca().xaxis.set_major_locator(mdates.MonthLocator())\n",
    "plt.grid()\n",
    "plt.show()"
   ]
  },
  {
   "cell_type": "markdown",
   "id": "6ed52abf",
   "metadata": {},
   "source": [
    "### Analysing the difference between levels of stock\n",
    "### on weekly basis"
   ]
  },
  {
   "cell_type": "code",
   "execution_count": 22,
   "id": "9892c785",
   "metadata": {},
   "outputs": [
    {
     "data": {
      "text/html": [
       "<div>\n",
       "<style scoped>\n",
       "    .dataframe tbody tr th:only-of-type {\n",
       "        vertical-align: middle;\n",
       "    }\n",
       "\n",
       "    .dataframe tbody tr th {\n",
       "        vertical-align: top;\n",
       "    }\n",
       "\n",
       "    .dataframe thead th {\n",
       "        text-align: right;\n",
       "    }\n",
       "</style>\n",
       "<table border=\"1\" class=\"dataframe\">\n",
       "  <thead>\n",
       "    <tr style=\"text-align: right;\">\n",
       "      <th></th>\n",
       "      <th>Open</th>\n",
       "      <th>High</th>\n",
       "      <th>Low</th>\n",
       "      <th>Close</th>\n",
       "      <th>Adj Close</th>\n",
       "      <th>Volume</th>\n",
       "      <th>diff</th>\n",
       "    </tr>\n",
       "    <tr>\n",
       "      <th>Date</th>\n",
       "      <th></th>\n",
       "      <th></th>\n",
       "      <th></th>\n",
       "      <th></th>\n",
       "      <th></th>\n",
       "      <th></th>\n",
       "      <th></th>\n",
       "    </tr>\n",
       "  </thead>\n",
       "  <tbody>\n",
       "    <tr>\n",
       "      <th>2010-07-04</th>\n",
       "      <td>23.197500</td>\n",
       "      <td>26.1100</td>\n",
       "      <td>19.9550</td>\n",
       "      <td>22.220000</td>\n",
       "      <td>22.220000</td>\n",
       "      <td>12328000.0</td>\n",
       "      <td>0.977501</td>\n",
       "    </tr>\n",
       "    <tr>\n",
       "      <th>2010-07-11</th>\n",
       "      <td>17.530000</td>\n",
       "      <td>18.0125</td>\n",
       "      <td>15.7325</td>\n",
       "      <td>16.692500</td>\n",
       "      <td>16.692500</td>\n",
       "      <td>6387650.0</td>\n",
       "      <td>0.837500</td>\n",
       "    </tr>\n",
       "    <tr>\n",
       "      <th>2010-07-18</th>\n",
       "      <td>18.784001</td>\n",
       "      <td>19.9320</td>\n",
       "      <td>18.1420</td>\n",
       "      <td>19.111999</td>\n",
       "      <td>19.111999</td>\n",
       "      <td>3087780.0</td>\n",
       "      <td>-0.327999</td>\n",
       "    </tr>\n",
       "    <tr>\n",
       "      <th>2010-07-25</th>\n",
       "      <td>21.114000</td>\n",
       "      <td>21.5620</td>\n",
       "      <td>20.3800</td>\n",
       "      <td>20.944000</td>\n",
       "      <td>20.944000</td>\n",
       "      <td>1435140.0</td>\n",
       "      <td>0.170001</td>\n",
       "    </tr>\n",
       "    <tr>\n",
       "      <th>2010-08-01</th>\n",
       "      <td>20.786000</td>\n",
       "      <td>20.9800</td>\n",
       "      <td>20.1240</td>\n",
       "      <td>20.502000</td>\n",
       "      <td>20.502000</td>\n",
       "      <td>610400.0</td>\n",
       "      <td>0.284000</td>\n",
       "    </tr>\n",
       "  </tbody>\n",
       "</table>\n",
       "</div>"
      ],
      "text/plain": [
       "                 Open     High      Low      Close  Adj Close      Volume  \\\n",
       "Date                                                                        \n",
       "2010-07-04  23.197500  26.1100  19.9550  22.220000  22.220000  12328000.0   \n",
       "2010-07-11  17.530000  18.0125  15.7325  16.692500  16.692500   6387650.0   \n",
       "2010-07-18  18.784001  19.9320  18.1420  19.111999  19.111999   3087780.0   \n",
       "2010-07-25  21.114000  21.5620  20.3800  20.944000  20.944000   1435140.0   \n",
       "2010-08-01  20.786000  20.9800  20.1240  20.502000  20.502000    610400.0   \n",
       "\n",
       "                diff  \n",
       "Date                  \n",
       "2010-07-04  0.977501  \n",
       "2010-07-11  0.837500  \n",
       "2010-07-18 -0.327999  \n",
       "2010-07-25  0.170001  \n",
       "2010-08-01  0.284000  "
      ]
     },
     "execution_count": 22,
     "metadata": {},
     "output_type": "execute_result"
    }
   ],
   "source": [
    "df['diff'] = df.Open - df.Close\n",
    "df_diff = df.resample(\"W\").mean()\n",
    "df_diff.head()"
   ]
  },
  {
   "cell_type": "code",
   "execution_count": 23,
   "id": "9f9eec18",
   "metadata": {},
   "outputs": [
    {
     "data": {
      "text/html": [
       "<div>\n",
       "<style scoped>\n",
       "    .dataframe tbody tr th:only-of-type {\n",
       "        vertical-align: middle;\n",
       "    }\n",
       "\n",
       "    .dataframe tbody tr th {\n",
       "        vertical-align: top;\n",
       "    }\n",
       "\n",
       "    .dataframe thead th {\n",
       "        text-align: right;\n",
       "    }\n",
       "</style>\n",
       "<table border=\"1\" class=\"dataframe\">\n",
       "  <thead>\n",
       "    <tr style=\"text-align: right;\">\n",
       "      <th></th>\n",
       "      <th>Open</th>\n",
       "      <th>High</th>\n",
       "      <th>Low</th>\n",
       "      <th>Close</th>\n",
       "      <th>Adj Close</th>\n",
       "      <th>Volume</th>\n",
       "      <th>diff</th>\n",
       "    </tr>\n",
       "    <tr>\n",
       "      <th>Date</th>\n",
       "      <th></th>\n",
       "      <th></th>\n",
       "      <th></th>\n",
       "      <th></th>\n",
       "      <th></th>\n",
       "      <th></th>\n",
       "      <th></th>\n",
       "    </tr>\n",
       "  </thead>\n",
       "  <tbody>\n",
       "    <tr>\n",
       "      <th>2020-01-12</th>\n",
       "      <td>470.892004</td>\n",
       "      <td>481.083997</td>\n",
       "      <td>461.632001</td>\n",
       "      <td>474.446002</td>\n",
       "      <td>474.446002</td>\n",
       "      <td>20111860.0</td>\n",
       "      <td>-3.553998</td>\n",
       "    </tr>\n",
       "    <tr>\n",
       "      <th>2020-01-19</th>\n",
       "      <td>513.776001</td>\n",
       "      <td>528.202002</td>\n",
       "      <td>505.804004</td>\n",
       "      <td>521.053992</td>\n",
       "      <td>521.053992</td>\n",
       "      <td>21649680.0</td>\n",
       "      <td>-7.277991</td>\n",
       "    </tr>\n",
       "    <tr>\n",
       "      <th>2020-01-26</th>\n",
       "      <td>559.255005</td>\n",
       "      <td>574.735001</td>\n",
       "      <td>549.342484</td>\n",
       "      <td>563.445007</td>\n",
       "      <td>563.445007</td>\n",
       "      <td>20794275.0</td>\n",
       "      <td>-4.190002</td>\n",
       "    </tr>\n",
       "    <tr>\n",
       "      <th>2020-02-02</th>\n",
       "      <td>591.717993</td>\n",
       "      <td>606.985999</td>\n",
       "      <td>583.062012</td>\n",
       "      <td>599.458008</td>\n",
       "      <td>599.458008</td>\n",
       "      <td>17584620.0</td>\n",
       "      <td>-7.740015</td>\n",
       "    </tr>\n",
       "    <tr>\n",
       "      <th>2020-02-09</th>\n",
       "      <td>673.690002</td>\n",
       "      <td>786.140015</td>\n",
       "      <td>673.520020</td>\n",
       "      <td>780.000000</td>\n",
       "      <td>780.000000</td>\n",
       "      <td>47065000.0</td>\n",
       "      <td>-106.309998</td>\n",
       "    </tr>\n",
       "  </tbody>\n",
       "</table>\n",
       "</div>"
      ],
      "text/plain": [
       "                  Open        High         Low       Close   Adj Close  \\\n",
       "Date                                                                     \n",
       "2020-01-12  470.892004  481.083997  461.632001  474.446002  474.446002   \n",
       "2020-01-19  513.776001  528.202002  505.804004  521.053992  521.053992   \n",
       "2020-01-26  559.255005  574.735001  549.342484  563.445007  563.445007   \n",
       "2020-02-02  591.717993  606.985999  583.062012  599.458008  599.458008   \n",
       "2020-02-09  673.690002  786.140015  673.520020  780.000000  780.000000   \n",
       "\n",
       "                Volume        diff  \n",
       "Date                                \n",
       "2020-01-12  20111860.0   -3.553998  \n",
       "2020-01-19  21649680.0   -7.277991  \n",
       "2020-01-26  20794275.0   -4.190002  \n",
       "2020-02-02  17584620.0   -7.740015  \n",
       "2020-02-09  47065000.0 -106.309998  "
      ]
     },
     "execution_count": 23,
     "metadata": {},
     "output_type": "execute_result"
    }
   ],
   "source": [
    "df_diff.tail()"
   ]
  },
  {
   "cell_type": "code",
   "execution_count": 24,
   "id": "25303ac4",
   "metadata": {},
   "outputs": [
    {
     "data": {
      "text/html": [
       "<div>\n",
       "<style scoped>\n",
       "    .dataframe tbody tr th:only-of-type {\n",
       "        vertical-align: middle;\n",
       "    }\n",
       "\n",
       "    .dataframe tbody tr th {\n",
       "        vertical-align: top;\n",
       "    }\n",
       "\n",
       "    .dataframe thead th {\n",
       "        text-align: right;\n",
       "    }\n",
       "</style>\n",
       "<table border=\"1\" class=\"dataframe\">\n",
       "  <thead>\n",
       "    <tr style=\"text-align: right;\">\n",
       "      <th></th>\n",
       "      <th>Open</th>\n",
       "      <th>High</th>\n",
       "      <th>Low</th>\n",
       "      <th>Close</th>\n",
       "      <th>Adj Close</th>\n",
       "      <th>Volume</th>\n",
       "      <th>diff</th>\n",
       "    </tr>\n",
       "    <tr>\n",
       "      <th>Date</th>\n",
       "      <th></th>\n",
       "      <th></th>\n",
       "      <th></th>\n",
       "      <th></th>\n",
       "      <th></th>\n",
       "      <th></th>\n",
       "      <th></th>\n",
       "    </tr>\n",
       "  </thead>\n",
       "  <tbody>\n",
       "    <tr>\n",
       "      <th>2019-01-06</th>\n",
       "      <td>314.222504</td>\n",
       "      <td>320.434998</td>\n",
       "      <td>306.042504</td>\n",
       "      <td>315.242493</td>\n",
       "      <td>315.242493</td>\n",
       "      <td>8080050.0</td>\n",
       "      <td>-1.019989</td>\n",
       "    </tr>\n",
       "    <tr>\n",
       "      <th>2019-01-13</th>\n",
       "      <td>335.133996</td>\n",
       "      <td>343.610004</td>\n",
       "      <td>329.359998</td>\n",
       "      <td>340.214001</td>\n",
       "      <td>340.214001</td>\n",
       "      <td>6217620.0</td>\n",
       "      <td>-5.080005</td>\n",
       "    </tr>\n",
       "    <tr>\n",
       "      <th>2019-01-20</th>\n",
       "      <td>338.273999</td>\n",
       "      <td>344.385999</td>\n",
       "      <td>331.176001</td>\n",
       "      <td>334.889997</td>\n",
       "      <td>334.889997</td>\n",
       "      <td>8764620.0</td>\n",
       "      <td>3.384002</td>\n",
       "    </tr>\n",
       "    <tr>\n",
       "      <th>2019-01-27</th>\n",
       "      <td>293.685005</td>\n",
       "      <td>298.674996</td>\n",
       "      <td>286.504997</td>\n",
       "      <td>293.765007</td>\n",
       "      <td>293.765007</td>\n",
       "      <td>9964625.0</td>\n",
       "      <td>-0.080002</td>\n",
       "    </tr>\n",
       "    <tr>\n",
       "      <th>2019-02-03</th>\n",
       "      <td>299.010004</td>\n",
       "      <td>306.535999</td>\n",
       "      <td>295.107996</td>\n",
       "      <td>304.367993</td>\n",
       "      <td>304.367993</td>\n",
       "      <td>8429580.0</td>\n",
       "      <td>-5.357989</td>\n",
       "    </tr>\n",
       "  </tbody>\n",
       "</table>\n",
       "</div>"
      ],
      "text/plain": [
       "                  Open        High         Low       Close   Adj Close  \\\n",
       "Date                                                                     \n",
       "2019-01-06  314.222504  320.434998  306.042504  315.242493  315.242493   \n",
       "2019-01-13  335.133996  343.610004  329.359998  340.214001  340.214001   \n",
       "2019-01-20  338.273999  344.385999  331.176001  334.889997  334.889997   \n",
       "2019-01-27  293.685005  298.674996  286.504997  293.765007  293.765007   \n",
       "2019-02-03  299.010004  306.535999  295.107996  304.367993  304.367993   \n",
       "\n",
       "               Volume      diff  \n",
       "Date                             \n",
       "2019-01-06  8080050.0 -1.019989  \n",
       "2019-01-13  6217620.0 -5.080005  \n",
       "2019-01-20  8764620.0  3.384002  \n",
       "2019-01-27  9964625.0 -0.080002  \n",
       "2019-02-03  8429580.0 -5.357989  "
      ]
     },
     "execution_count": 24,
     "metadata": {},
     "output_type": "execute_result"
    }
   ],
   "source": [
    "df_d = df_diff.loc[\"2019-01-01\":\"2019-12-31\"]\n",
    "df_d.head()"
   ]
  },
  {
   "cell_type": "code",
   "execution_count": 27,
   "id": "e8e02020",
   "metadata": {},
   "outputs": [
    {
     "data": {
      "image/png": "[encoded data removed]",
      "text/plain": [
       "<Figure size 1080x504 with 1 Axes>"
      ]
     },
     "metadata": {
      "needs_background": "light"
     },
     "output_type": "display_data"
    }
   ],
   "source": [
    "plt.figure(figsize=(15,7))\n",
    "plt.scatter(df_d.index,df_d['diff'],color = \"mediumseagreen\")\n",
    "plt.gca().xaxis.set_major_formatter(mdates.DateFormatter(\"%Y-%m-%d\"))\n",
    "plt.gca().xaxis.set_major_locator(mdates.MonthLocator())\n",
    "plt.grid()\n",
    "plt.xticks(rotation= 90)\n",
    "plt.show()"
   ]
  },
  {
   "cell_type": "markdown",
   "id": "832e2705",
   "metadata": {},
   "source": [
    "### Daily presentage"
   ]
  },
  {
   "cell_type": "code",
   "execution_count": 28,
   "id": "9096a966",
   "metadata": {},
   "outputs": [
    {
     "data": {
      "text/html": [
       "<div>\n",
       "<style scoped>\n",
       "    .dataframe tbody tr th:only-of-type {\n",
       "        vertical-align: middle;\n",
       "    }\n",
       "\n",
       "    .dataframe tbody tr th {\n",
       "        vertical-align: top;\n",
       "    }\n",
       "\n",
       "    .dataframe thead th {\n",
       "        text-align: right;\n",
       "    }\n",
       "</style>\n",
       "<table border=\"1\" class=\"dataframe\">\n",
       "  <thead>\n",
       "    <tr style=\"text-align: right;\">\n",
       "      <th></th>\n",
       "      <th>Adj Close</th>\n",
       "    </tr>\n",
       "    <tr>\n",
       "      <th>Date</th>\n",
       "      <th></th>\n",
       "    </tr>\n",
       "  </thead>\n",
       "  <tbody>\n",
       "    <tr>\n",
       "      <th>2010-06-29</th>\n",
       "      <td>0.000000</td>\n",
       "    </tr>\n",
       "    <tr>\n",
       "      <th>2010-06-30</th>\n",
       "      <td>-0.002511</td>\n",
       "    </tr>\n",
       "    <tr>\n",
       "      <th>2010-07-01</th>\n",
       "      <td>-0.078473</td>\n",
       "    </tr>\n",
       "    <tr>\n",
       "      <th>2010-07-02</th>\n",
       "      <td>-0.125683</td>\n",
       "    </tr>\n",
       "    <tr>\n",
       "      <th>2010-07-06</th>\n",
       "      <td>-0.160937</td>\n",
       "    </tr>\n",
       "  </tbody>\n",
       "</table>\n",
       "</div>"
      ],
      "text/plain": [
       "            Adj Close\n",
       "Date                 \n",
       "2010-06-29   0.000000\n",
       "2010-06-30  -0.002511\n",
       "2010-07-01  -0.078473\n",
       "2010-07-02  -0.125683\n",
       "2010-07-06  -0.160937"
      ]
     },
     "execution_count": 28,
     "metadata": {},
     "output_type": "execute_result"
    }
   ],
   "source": [
    "daily_close = df[[\"Adj Close\"]]\n",
    "# Daily return( we will use pct_change to get persentage change)\n",
    "df_pct = daily_close.pct_change()\n",
    "# To deal with N>A value we will replace it with 0\n",
    "df_pct.fillna(0,inplace = True)\n",
    "df_pct.head()"
   ]
  },
  {
   "cell_type": "markdown",
   "id": "ded43b8c",
   "metadata": {},
   "source": [
    "#### We will create histogram for adjacent close"
   ]
  },
  {
   "cell_type": "code",
   "execution_count": 29,
   "id": "ca9ae5b1",
   "metadata": {},
   "outputs": [
    {
     "data": {
      "image/png": "[encoded data removed]",
      "text/plain": [
       "<Figure size 432x288 with 1 Axes>"
      ]
     },
     "metadata": {
      "needs_background": "light"
     },
     "output_type": "display_data"
    }
   ],
   "source": [
    "df_pct.hist(bins = 50)\n",
    "plt.show()"
   ]
  },
  {
   "cell_type": "code",
   "execution_count": 30,
   "id": "03abbfb5",
   "metadata": {},
   "outputs": [
    {
     "name": "stderr",
     "output_type": "stream",
     "text": [
      "C:\\Users\\ankus\\anaconda3\\lib\\site-packages\\seaborn\\distributions.py:2619: FutureWarning: `distplot` is a deprecated function and will be removed in a future version. Please adapt your code to use either `displot` (a figure-level function with similar flexibility) or `histplot` (an axes-level function for histograms).\n",
      "  warnings.warn(msg, FutureWarning)\n"
     ]
    },
    {
     "data": {
      "image/png": "[encoded data removed]",
      "text/plain": [
       "<Figure size 432x288 with 1 Axes>"
      ]
     },
     "metadata": {
      "needs_background": "light"
     },
     "output_type": "display_data"
    }
   ],
   "source": [
    "sns.distplot(df_pct[\"Adj Close\"],color=\"mediumseagreen\")\n",
    "plt.show()"
   ]
  },
  {
   "cell_type": "code",
   "execution_count": null,
   "id": "3254156a",
   "metadata": {},
   "outputs": [],
   "source": []
  }
 ],
 "metadata": {
  "kernelspec": {
   "display_name": "Python 3 (ipykernel)",
   "language": "python",
   "name": "python3"
  },
  "language_info": {
   "codemirror_mode": {
    "name": "ipython",
    "version": 3
   },
   "file_extension": ".py",
   "mimetype": "text/x-python",
   "name": "python",
   "nbconvert_exporter": "python",
   "pygments_lexer": "ipython3",
   "version": "3.8.11"
  }
 },
 "nbformat": 4,
 "nbformat_minor": 5
}
